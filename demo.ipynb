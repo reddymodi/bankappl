{
 "cells": [
  {
   "cell_type": "code",
   "execution_count": 3,
   "metadata": {},
   "outputs": [
    {
     "ename": "TypeError",
     "evalue": "adder() takes 1 positional argument but 7 were given",
     "output_type": "error",
     "traceback": [
      "\u001b[1;31m---------------------------------------------------------------------------\u001b[0m",
      "\u001b[1;31mTypeError\u001b[0m                                 Traceback (most recent call last)",
      "Cell \u001b[1;32mIn[3], line 8\u001b[0m\n\u001b[0;32m      5\u001b[0m     \u001b[39mprint\u001b[39m(res)\n\u001b[0;32m      7\u001b[0m n\u001b[39m=\u001b[39m(\u001b[39m1\u001b[39m,\u001b[39m2\u001b[39m,\u001b[39m3\u001b[39m,\u001b[39m4\u001b[39m,\u001b[39m5\u001b[39m,\u001b[39m6\u001b[39m,\u001b[39m4\u001b[39m)   \n\u001b[1;32m----> 8\u001b[0m adder(\u001b[39m*\u001b[39;49mn)\n",
      "\u001b[1;31mTypeError\u001b[0m: adder() takes 1 positional argument but 7 were given"
     ]
    }
   ],
   "source": [
    "def adder(*n):\n",
    "    res=0\n",
    "    for i in n:\n",
    "        res=res+i\n",
    "    print(res)\n",
    "\n",
    "n=(1,2,3,4,5,6,4)   \n",
    "adder(*n)"
   ]
  },
  {
   "cell_type": "code",
   "execution_count": 6,
   "metadata": {},
   "outputs": [
    {
     "name": "stdout",
     "output_type": "stream",
     "text": [
      "10\n",
      "a\n",
      "True\n",
      "(20, 40)\n",
      "10.88\n"
     ]
    }
   ],
   "source": [
    "def fun(arr,i):\n",
    "    if i == len(arr):\n",
    "        return\n",
    "    print(arr[i])\n",
    "    fun(arr,i+1)\n",
    "\n",
    "    \n",
    "\n",
    "arr=[10,\"a\",True,(20,40),10.88]\n",
    "fun(arr,0)"
   ]
  },
  {
   "cell_type": "code",
   "execution_count": 7,
   "metadata": {},
   "outputs": [
    {
     "name": "stdout",
     "output_type": "stream",
     "text": [
      "10\n",
      "11\n",
      "12\n",
      "13\n",
      "14\n",
      "15\n"
     ]
    }
   ],
   "source": [
    "def dil(n1,n2):\n",
    "    if n1> n2:\n",
    "        return\n",
    "    print(n1)\n",
    "    dil(n1+1,n2)\n",
    "n1,n2 = 10,15\n",
    "dil(n1,n2)"
   ]
  },
  {
   "cell_type": "code",
   "execution_count": 8,
   "metadata": {},
   "outputs": [
    {
     "data": {
      "text/plain": [
       "'g42'"
      ]
     },
     "execution_count": 8,
     "metadata": {},
     "output_type": "execute_result"
    }
   ],
   "source": [
    "class Ram:\n",
    "    color=\"red\"\n",
    "    model=\"g42\"\n",
    "    cost=\"25$\"\n",
    "\n",
    "    def marl(self):\n",
    "        print(\"started\")\n",
    "    def stop(self):\n",
    "        print(\"stoppe the car\")\n",
    "bmw = Ram()\n",
    "tesla=Ram()\n",
    "bmw.color\n",
    "tesla.color=\"blue\"\n",
    "tesla.model\n"
   ]
  },
  {
   "cell_type": "code",
   "execution_count": 11,
   "metadata": {},
   "outputs": [
    {
     "data": {
      "text/plain": [
       "30000"
      ]
     },
     "execution_count": 11,
     "metadata": {},
     "output_type": "execute_result"
    }
   ],
   "source": [
    "class Man:\n",
    "    name = \"kesava\"\n",
    "    age = 23\n",
    "    jobId = \"mk1551\"\n",
    "    salry = 30000\n",
    "    def make_sal(self):\n",
    "        print(\"my salary low\")\n",
    "\n",
    "wm = Man()\n",
    "wm.name\n",
    "ln = Man()\n",
    "ln.salry"
   ]
  },
  {
   "cell_type": "code",
   "execution_count": null,
   "metadata": {},
   "outputs": [],
   "source": []
  },
  {
   "cell_type": "code",
   "execution_count": 3,
   "metadata": {},
   "outputs": [
    {
     "data": {
      "text/plain": [
       "8"
      ]
     },
     "execution_count": 3,
     "metadata": {},
     "output_type": "execute_result"
    }
   ],
   "source": [
    "def fabonaci(i):\n",
    "    if i>0:\n",
    "        return i\n",
    "    else:\n",
    "        return fabonaci(i+1)+fabonaci(i+2)\n",
    "\n",
    "fabonaci(8)"
   ]
  },
  {
   "cell_type": "code",
   "execution_count": null,
   "metadata": {},
   "outputs": [],
   "source": [
    "class Reddy:\n",
    "    model=\"oppof19\"\n",
    "    came=\"64mp\"\n",
    "    def make_call(self):\n",
    "        print(\"find number\")\n",
    "    def make_prob(self):\n",
    "        print(\"finding phone\")\n",
    "\n",
    "asb = Reddy()\n",
    "asb.make_call()"
   ]
  },
  {
   "cell_type": "code",
   "execution_count": 16,
   "metadata": {},
   "outputs": [
    {
     "data": {
      "text/plain": [
       "30000"
      ]
     },
     "execution_count": 16,
     "metadata": {},
     "output_type": "execute_result"
    }
   ],
   "source": [
    "class Man:\n",
    "    name = \"kesava\"\n",
    "    age = 23\n",
    "    jobId = \"mk1551\"\n",
    "    salry = 30000\n",
    "    def make_sal(self):\n",
    "        print(\"my salary low\")\n",
    "\n",
    "wm = Man()\n",
    "wm.name\n",
    "ln = Man()\n",
    "ln.salry\n",
    "wm.jobId=\"let1234\"\n",
    "wm.jobId\n",
    "ln.salry = 50000\n",
    "ln.salry\n",
    "wm.salry"
   ]
  },
  {
   "cell_type": "code",
   "execution_count": 2,
   "metadata": {},
   "outputs": [
    {
     "name": "stdout",
     "output_type": "stream",
     "text": [
      "car color : red\n",
      "nano color : red\n",
      "tesla color : red\n",
      "1742055837360 1742055837360 1742055837360\n",
      "\n",
      "1742059466416 1742059466416 1742059466416\n",
      "car color : Green\n",
      "nano color : Green\n",
      "tesla color : Green\n",
      "\n",
      "1742059466416 1742055837488 1742059466416\n",
      "car color : Green\n",
      "nano color : blue\n",
      "tesla color : Green\n"
     ]
    }
   ],
   "source": [
    "class Car:\n",
    "    color = 'red'\n",
    "    wheels = 4\n",
    "\n",
    "    def start(self):\n",
    "        print('started')\n",
    "\n",
    "    def stop(self):\n",
    "        print('stopped')\n",
    "\n",
    "nano = Car()\n",
    "tesla = Car()\n",
    "print('car color :', Car.color)\n",
    "print('nano color :', nano.color)\n",
    "print('tesla color :', tesla.color)\n",
    "print(id(Car.color), id(nano.color), id(tesla.color))\n",
    "print()\n",
    "Car.color = 'Green'\n",
    "print(id(Car.color), id(nano.color), id(tesla.color))\n",
    "print('car color :', Car.color)\n",
    "print('nano color :', nano.color)\n",
    "print('tesla color :', tesla.color)\n",
    "print()\n",
    "nano.color = 'blue'\n",
    "print(id(Car.color), id(nano.color), id(tesla.color))\n",
    "print('car color :', Car.color)\n",
    "print('nano color :', nano.color)\n",
    "print('tesla color :', tesla.color)\n",
    "\n"
   ]
  }
 ],
 "metadata": {
  "kernelspec": {
   "display_name": "Python 3.11.0 64-bit",
   "language": "python",
   "name": "python3"
  },
  "language_info": {
   "codemirror_mode": {
    "name": "ipython",
    "version": 3
   },
   "file_extension": ".py",
   "mimetype": "text/x-python",
   "name": "python",
   "nbconvert_exporter": "python",
   "pygments_lexer": "ipython3",
   "version": "3.11.0"
  },
  "orig_nbformat": 4,
  "vscode": {
   "interpreter": {
    "hash": "c38039a83633e967d99f248a2e2d8845d650f67a62adcdf19f4cf297e22484bc"
   }
  }
 },
 "nbformat": 4,
 "nbformat_minor": 2
}
